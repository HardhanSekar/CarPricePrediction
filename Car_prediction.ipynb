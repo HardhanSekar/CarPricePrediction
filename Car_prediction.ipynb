{
 "cells": [
  {
   "cell_type": "code",
   "execution_count": 9,
   "id": "d3b8a416",
   "metadata": {},
   "outputs": [],
   "source": [
    "import selenium\n",
    "from selenium import webdriver\n",
    "import time\n",
    "import requests\n",
    "from bs4 import BeautifulSoup\n",
    "from selenium.common.exceptions import StaleElementReferenceException,NoSuchElementException\n",
    "from selenium.common.exceptions import NoSuchElementException\n",
    "import re\n",
    "import pandas as pd\n",
    "import numpy as np\n",
    "\n",
    "import warnings\n",
    "warnings.filterwarnings(\"ignore\",category=DeprecationWarning)"
   ]
  },
  {
   "cell_type": "code",
   "execution_count": 6,
   "id": "13482a11",
   "metadata": {},
   "outputs": [],
   "source": [
    "from selenium.webdriver.common.by import By"
   ]
  },
  {
   "cell_type": "code",
   "execution_count": 2,
   "id": "9673f0dc",
   "metadata": {},
   "outputs": [],
   "source": [
    "import warnings\n",
    "warnings.filterwarnings('ignore')"
   ]
  },
  {
   "cell_type": "code",
   "execution_count": 10,
   "id": "143a712d",
   "metadata": {},
   "outputs": [],
   "source": [
    "driver=webdriver.Chrome(r\"C:\\Users\\91790\\Downloads\\chromedriver_win32\\chromedriver.exe\") \n",
    "time.sleep(3)"
   ]
  },
  {
   "cell_type": "code",
   "execution_count": 11,
   "id": "080f1d07",
   "metadata": {},
   "outputs": [],
   "source": [
    "url = 'https://www.olx.in/cars_c84'\n",
    "driver.get(url)"
   ]
  },
  {
   "cell_type": "code",
   "execution_count": 12,
   "id": "dba7f878",
   "metadata": {},
   "outputs": [],
   "source": [
    "urls=[]"
   ]
  },
  {
   "cell_type": "code",
   "execution_count": 14,
   "id": "46df2e2f",
   "metadata": {},
   "outputs": [],
   "source": [
    "for i in range(50):\n",
    "    for j in driver.find_elements(By.XPATH,'//li[@class=\"_31j8e\"]/a'):\n",
    "        urls.append(j.get_attribute('href'))\n",
    "    \n",
    "btn=driver.find_element(By.XPATH,'//li[@class=\"_3OF2S\"]/div')\n",
    "btn.click()"
   ]
  },
  {
   "cell_type": "code",
   "execution_count": 15,
   "id": "e9c5107a",
   "metadata": {},
   "outputs": [
    {
     "data": {
      "text/plain": [
       "2000"
      ]
     },
     "execution_count": 15,
     "metadata": {},
     "output_type": "execute_result"
    }
   ],
   "source": [
    "len(urls)"
   ]
  },
  {
   "cell_type": "code",
   "execution_count": 16,
   "id": "47f1791b",
   "metadata": {},
   "outputs": [
    {
     "data": {
      "text/plain": [
       "'https://www.olx.in/item/maruti-suzuki-alto-k10-vxi-2014-petrol-iid-1698157779'"
      ]
     },
     "execution_count": 16,
     "metadata": {},
     "output_type": "execute_result"
    }
   ],
   "source": [
    "urls[1]"
   ]
  },
  {
   "cell_type": "code",
   "execution_count": 17,
   "id": "051bddee",
   "metadata": {},
   "outputs": [],
   "source": [
    "brand =[]\n",
    "year =[]\n",
    "km=[]\n",
    "fuel=[]\n",
    "owners=[]\n",
    "price=[]"
   ]
  },
  {
   "cell_type": "code",
   "execution_count": 20,
   "id": "026ff4c6",
   "metadata": {},
   "outputs": [],
   "source": [
    "for i in urls[:]:\n",
    "    driver.get(i)\n",
    "    time.sleep(1)\n",
    "    \n",
    "    try:\n",
    "        brand_tags=driver.find_element(By.XPATH,'//div[@data-aut-id=\"itemTitle\"]')\n",
    "        brand.append(brand_tags.text.split('\\n')[0][:-7])\n",
    "    except NoSuchElementException:\n",
    "        brand.append(\" \")\n",
    "      \n",
    "           \n",
    "    try:\n",
    "        year_tags=driver.find_element(By.XPATH,'//div[@data-aut-id=\"itemTitle\"]')\n",
    "        year.append(year_tags.text.split('\\n')[0][-5:-1])\n",
    "    except NoSuchElementException:\n",
    "        year.append(\" \")\n",
    "        \n",
    "        \n",
    "    try:\n",
    "        km_tags=driver.find_element(By.XPATH,'//div[@class=\"aOxkz\"]/div[2]/div')\n",
    "        km.append(km_tags.text.split('\\n')[0][:-3])\n",
    "    except NoSuchElementException:\n",
    "        km.append(\" \")\n",
    "        \n",
    "        \n",
    "    try:\n",
    "        fuel_tags=driver.find_element(By.XPATH,'//div[@class=\"aOxkz\"]/div[1]/div')\n",
    "        fuel.append(fuel_tags.text)\n",
    "    except NoSuchElementException:\n",
    "        fuel.append(\" \")\n",
    "        \n",
    "        \n",
    "    try:\n",
    "        owners_tags=driver.find_element(By.XPATH,'//div[@class=\"_1gasz\"]')\n",
    "        owners.append(owners_tags.text)\n",
    "    except NoSuchElementException:\n",
    "        owners.append(\" \")\n",
    "        \n",
    "        \n",
    "    try:\n",
    "        price_tags=driver.find_element(By.XPATH,'//div[@data-aut-id=\"itemPrice\"]')\n",
    "        price.append(price_tags.text.split('\\n')[0][2:].replace(',', ''))\n",
    "    except NoSuchElementException:\n",
    "        price.append(\" \")"
   ]
  },
  {
   "cell_type": "code",
   "execution_count": 21,
   "id": "b6564340",
   "metadata": {},
   "outputs": [
    {
     "data": {
      "text/plain": [
       "(2250, 2250, 2250, 2250, 2250, 2250)"
      ]
     },
     "execution_count": 21,
     "metadata": {},
     "output_type": "execute_result"
    }
   ],
   "source": [
    "len(brand),len(year),len(km),len(fuel),len(owners),len(price)"
   ]
  },
  {
   "cell_type": "code",
   "execution_count": 23,
   "id": "f1af3739",
   "metadata": {},
   "outputs": [
    {
     "data": {
      "text/html": [
       "<div>\n",
       "<style scoped>\n",
       "    .dataframe tbody tr th:only-of-type {\n",
       "        vertical-align: middle;\n",
       "    }\n",
       "\n",
       "    .dataframe tbody tr th {\n",
       "        vertical-align: top;\n",
       "    }\n",
       "\n",
       "    .dataframe thead th {\n",
       "        text-align: right;\n",
       "    }\n",
       "</style>\n",
       "<table border=\"1\" class=\"dataframe\">\n",
       "  <thead>\n",
       "    <tr style=\"text-align: right;\">\n",
       "      <th></th>\n",
       "      <th>Brand</th>\n",
       "      <th>Year</th>\n",
       "      <th>KMT</th>\n",
       "      <th>Fuel</th>\n",
       "      <th>Owners</th>\n",
       "      <th>Price</th>\n",
       "    </tr>\n",
       "  </thead>\n",
       "  <tbody>\n",
       "    <tr>\n",
       "      <th>0</th>\n",
       "      <td>Skoda Superb</td>\n",
       "      <td>2010</td>\n",
       "      <td>86000.0</td>\n",
       "      <td>PETROL</td>\n",
       "      <td>3rd</td>\n",
       "      <td>295000</td>\n",
       "    </tr>\n",
       "    <tr>\n",
       "      <th>1</th>\n",
       "      <td>Maruti Suzuki Alto K10</td>\n",
       "      <td>2014</td>\n",
       "      <td>32000.0</td>\n",
       "      <td>PETROL</td>\n",
       "      <td>1st</td>\n",
       "      <td>320000</td>\n",
       "    </tr>\n",
       "    <tr>\n",
       "      <th>2</th>\n",
       "      <td>Volkswagen Polo</td>\n",
       "      <td>2014</td>\n",
       "      <td>74000.0</td>\n",
       "      <td>PETROL</td>\n",
       "      <td>1st</td>\n",
       "      <td>455000</td>\n",
       "    </tr>\n",
       "    <tr>\n",
       "      <th>3</th>\n",
       "      <td>Tata Indica Ev2</td>\n",
       "      <td>2007</td>\n",
       "      <td>30000</td>\n",
       "      <td>DIESEL</td>\n",
       "      <td>Third</td>\n",
       "      <td>75000</td>\n",
       "    </tr>\n",
       "    <tr>\n",
       "      <th>4</th>\n",
       "      <td>Tata Safari</td>\n",
       "      <td>2009</td>\n",
       "      <td>90000</td>\n",
       "      <td>DIESEL</td>\n",
       "      <td>Third</td>\n",
       "      <td>155555</td>\n",
       "    </tr>\n",
       "    <tr>\n",
       "      <th>...</th>\n",
       "      <td>...</td>\n",
       "      <td>...</td>\n",
       "      <td>...</td>\n",
       "      <td>...</td>\n",
       "      <td>...</td>\n",
       "      <td>...</td>\n",
       "    </tr>\n",
       "    <tr>\n",
       "      <th>2245</th>\n",
       "      <td>Audi A4</td>\n",
       "      <td>2011</td>\n",
       "      <td>91690.0</td>\n",
       "      <td>DIESEL</td>\n",
       "      <td>2nd</td>\n",
       "      <td>775000</td>\n",
       "    </tr>\n",
       "    <tr>\n",
       "      <th>2246</th>\n",
       "      <td>Hyundai Fluidic Verna</td>\n",
       "      <td>2016</td>\n",
       "      <td>60000.0</td>\n",
       "      <td>PETROL</td>\n",
       "      <td>1st</td>\n",
       "      <td>565000</td>\n",
       "    </tr>\n",
       "    <tr>\n",
       "      <th>2247</th>\n",
       "      <td>Hyundai Verna</td>\n",
       "      <td>2018</td>\n",
       "      <td>26000.0</td>\n",
       "      <td>PETROL</td>\n",
       "      <td>1st</td>\n",
       "      <td>945000</td>\n",
       "    </tr>\n",
       "    <tr>\n",
       "      <th>2248</th>\n",
       "      <td>Hyundai I10</td>\n",
       "      <td>2014</td>\n",
       "      <td>81352.0</td>\n",
       "      <td>PETROL</td>\n",
       "      <td>--</td>\n",
       "      <td>245000</td>\n",
       "    </tr>\n",
       "    <tr>\n",
       "      <th>2249</th>\n",
       "      <td>Maruti Suzuki Alto K10</td>\n",
       "      <td>2011</td>\n",
       "      <td>113222.0</td>\n",
       "      <td>PETROL</td>\n",
       "      <td>--</td>\n",
       "      <td>135000</td>\n",
       "    </tr>\n",
       "  </tbody>\n",
       "</table>\n",
       "<p>2250 rows × 6 columns</p>\n",
       "</div>"
      ],
      "text/plain": [
       "                       Brand  Year       KMT    Fuel Owners   Price\n",
       "0               Skoda Superb  2010   86000.0  PETROL    3rd  295000\n",
       "1     Maruti Suzuki Alto K10  2014   32000.0  PETROL    1st  320000\n",
       "2            Volkswagen Polo  2014   74000.0  PETROL    1st  455000\n",
       "3            Tata Indica Ev2  2007     30000  DIESEL  Third   75000\n",
       "4                Tata Safari  2009     90000  DIESEL  Third  155555\n",
       "...                      ...   ...       ...     ...    ...     ...\n",
       "2245                 Audi A4  2011   91690.0  DIESEL    2nd  775000\n",
       "2246   Hyundai Fluidic Verna  2016   60000.0  PETROL    1st  565000\n",
       "2247           Hyundai Verna  2018   26000.0  PETROL    1st  945000\n",
       "2248             Hyundai I10  2014   81352.0  PETROL     --  245000\n",
       "2249  Maruti Suzuki Alto K10  2011  113222.0  PETROL     --  135000\n",
       "\n",
       "[2250 rows x 6 columns]"
      ]
     },
     "execution_count": 23,
     "metadata": {},
     "output_type": "execute_result"
    }
   ],
   "source": [
    "df=pd.DataFrame({'Brand' : brand,'Year':year,'KMT':km,'Fuel':fuel,'Owners':owners,'Price':price})\n",
    "df"
   ]
  },
  {
   "cell_type": "code",
   "execution_count": 24,
   "id": "33a35d91",
   "metadata": {},
   "outputs": [],
   "source": [
    "df.to_csv('olx_car_data_prediction', index=False)"
   ]
  }
 ],
 "metadata": {
  "kernelspec": {
   "display_name": "Python 3 (ipykernel)",
   "language": "python",
   "name": "python3"
  },
  "language_info": {
   "codemirror_mode": {
    "name": "ipython",
    "version": 3
   },
   "file_extension": ".py",
   "mimetype": "text/x-python",
   "name": "python",
   "nbconvert_exporter": "python",
   "pygments_lexer": "ipython3",
   "version": "3.9.12"
  }
 },
 "nbformat": 4,
 "nbformat_minor": 5
}
